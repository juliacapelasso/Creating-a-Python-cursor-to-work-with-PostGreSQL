{
 "cells": [
  {
   "cell_type": "markdown",
   "id": "f0b0736b-e57b-418b-843d-d10093e3cf0c",
   "metadata": {},
   "source": [
    "## 1 - Importing the libraries"
   ]
  },
  {
   "cell_type": "code",
   "execution_count": 1,
   "id": "c970acc8-fddd-46da-bdb0-eb4e7e9b04fa",
   "metadata": {},
   "outputs": [],
   "source": [
    "import pandas as pd\n",
    "import psycopg2"
   ]
  },
  {
   "cell_type": "markdown",
   "id": "5b128401-1840-414c-b35d-602a6f378815",
   "metadata": {},
   "source": [
    "## 2- Establishing connection with PostGres:"
   ]
  },
  {
   "cell_type": "code",
   "execution_count": 2,
   "id": "fea99ea4-8219-4f8d-bf4a-784044ab0ed2",
   "metadata": {},
   "outputs": [
    {
     "name": "stdout",
     "output_type": "stream",
     "text": [
      "Connection successful. \n"
     ]
    }
   ],
   "source": [
    "#It's a good practice to use try and except when trying to connect somewhere\n",
    "try:\n",
    "    db_connection = psycopg2.connect(\"host=localhost dbname=postgres user=postgres password=root\")\n",
    "    print('Connection successful. ')\n",
    "except psycopg2.Error as error:\n",
    "    print('Connection was not possible. Try again. ')\n",
    "    print(error)\n"
   ]
  },
  {
   "cell_type": "markdown",
   "id": "4857cb5e-cedd-4b0c-ba20-f2a5f216c689",
   "metadata": {},
   "source": [
    "## 3- Using the connection to get a cursor to execute queries:"
   ]
  },
  {
   "cell_type": "code",
   "execution_count": 3,
   "id": "75112186-d55e-40e9-baf7-100ea507a4b6",
   "metadata": {},
   "outputs": [
    {
     "name": "stdout",
     "output_type": "stream",
     "text": [
      "Cursor successfully created. \n"
     ]
    }
   ],
   "source": [
    "try:\n",
    "    db_cursor = db_connection.cursor()\n",
    "    print('Cursor successfully created. ')\n",
    "except psycopg2.Error as error:\n",
    "    print('Could not get cursor to the Database. ')\n",
    "    print(error)"
   ]
  },
  {
   "cell_type": "markdown",
   "id": "9ac7ec09-e6e3-45c0-a96a-907224d60377",
   "metadata": {},
   "source": [
    "## 4- Using the autocommit instead of using conn.commit() after each command:"
   ]
  },
  {
   "cell_type": "code",
   "execution_count": 4,
   "id": "228ddb9f-f2ef-48dd-bea1-83c6901f48da",
   "metadata": {},
   "outputs": [],
   "source": [
    "db_connection.set_session(autocommit=True)"
   ]
  },
  {
   "cell_type": "markdown",
   "id": "3ff39e3b-1fa5-43ad-9394-350aab83b680",
   "metadata": {},
   "source": [
    "## 5- Creating the database using the cursor"
   ]
  },
  {
   "cell_type": "code",
   "execution_count": 5,
   "id": "f5d05346-e660-4d1e-b40c-531e19d93383",
   "metadata": {},
   "outputs": [
    {
     "name": "stdout",
     "output_type": "stream",
     "text": [
      "Database created successfully \n"
     ]
    }
   ],
   "source": [
    "try:\n",
    "    db_cursor.execute('Create Database project_One')\n",
    "    print('Database created successfully ')\n",
    "except psycopg2.Error as error:\n",
    "    print('Could not create the Database. ', error)"
   ]
  },
  {
   "cell_type": "markdown",
   "id": "e9db4e0f-cfa0-4065-b312-54ef74f0d643",
   "metadata": {},
   "source": [
    "## 6- Removing the previous connection in dbname=postgres to transfer it to dbname=project_One created on the step above:"
   ]
  },
  {
   "cell_type": "code",
   "execution_count": 6,
   "id": "8f9c9a5d-73ce-4718-938b-5d0c685666b9",
   "metadata": {},
   "outputs": [
    {
     "name": "stdout",
     "output_type": "stream",
     "text": [
      "Previous connection ended. \n"
     ]
    }
   ],
   "source": [
    "try: \n",
    "    db_connection.close()\n",
    "    print('Previous connection ended. ')\n",
    "except psycopg2.Error as error:\n",
    "    print(error)"
   ]
  },
  {
   "cell_type": "markdown",
   "id": "150a227c-d98e-441d-898f-2a8c62a8385b",
   "metadata": {},
   "source": [
    "## 7 - Reconnecting our new database (project_One):"
   ]
  },
  {
   "cell_type": "code",
   "execution_count": 8,
   "id": "8c08c35d-d04c-48d6-abd2-5734908c6d34",
   "metadata": {},
   "outputs": [
    {
     "name": "stdout",
     "output_type": "stream",
     "text": [
      "Connection successful. \n"
     ]
    }
   ],
   "source": [
    "try: \n",
    "    db_connection = psycopg2.connect(\"host=localhost dbname=teste user=postgres password=181270\")\n",
    "    print('Connection successful. ')\n",
    "except psycopg2.Error as error: \n",
    "    print(\"Error: Could not make connection to the Postgres database\")\n",
    "    print(error)"
   ]
  },
  {
   "cell_type": "markdown",
   "id": "028fb9c8-8a56-46a3-8fa1-4a1173d0040a",
   "metadata": {},
   "source": [
    "## 8 - Creating a new cursor and setting an autocommit:"
   ]
  },
  {
   "cell_type": "code",
   "execution_count": 11,
   "id": "adf20391-c8d4-4ed5-83b7-e2c8f4f89c2a",
   "metadata": {},
   "outputs": [
    {
     "name": "stdout",
     "output_type": "stream",
     "text": [
      "Cursor successfully created. \n"
     ]
    }
   ],
   "source": [
    "try: \n",
    "    cur = db_connection.cursor()\n",
    "    print('Cursor successfully created. ')\n",
    "except psycopg2.Error as error: \n",
    "    print(\"Error: Could not get curser to the Database. \")\n",
    "    print(error)\n",
    "\n",
    "db_connection.set_session(autocommit=True)"
   ]
  },
  {
   "cell_type": "markdown",
   "id": "9b8d327b-6437-4052-86e7-0a35e5ef82d3",
   "metadata": {},
   "source": [
    "## 9 -Creating Table with the following columns:"
   ]
  },
  {
   "cell_type": "markdown",
   "id": "e4b11cc7-ff49-44e1-8d5a-68c46f6dff14",
   "metadata": {},
   "source": [
    "client_id\n",
    "name\n",
    "age\n",
    "gender\n",
    "country\n",
    "item\n",
    "item_units\n",
    "price"
   ]
  },
  {
   "cell_type": "code",
   "execution_count": 15,
   "id": "68d855e5-2f78-4744-b99f-e2fe25955cab",
   "metadata": {},
   "outputs": [
    {
     "name": "stdout",
     "output_type": "stream",
     "text": [
      "Table was successfully created. \n"
     ]
    }
   ],
   "source": [
    "try:\n",
    "    cur.execute(\"CREATE TABLE IF NOT EXISTS Clients(client_id int, name varchar, age int, gender char, country varchar, item varchar, item_units int, price float);\")\n",
    "    print(\"Table was successfully created. \")\n",
    "except psycopg2.Error as error: \n",
    "    print(\"Error: Could not create the table. \")\n",
    "    print(error)"
   ]
  },
  {
   "cell_type": "markdown",
   "id": "57eaac4f-aede-4eaf-82f3-8ea16260126e",
   "metadata": {},
   "source": [
    "## 10 - Inserting values to the table:"
   ]
  },
  {
   "cell_type": "code",
   "execution_count": 21,
   "id": "82eaf7a2-7a6f-45c7-9ce5-4b5c36eb383a",
   "metadata": {},
   "outputs": [
    {
     "name": "stdout",
     "output_type": "stream",
     "text": [
      "Values were successfully added. \n",
      "Values were successfully added. \n"
     ]
    }
   ],
   "source": [
    "try:\n",
    "    cur.execute(\"INSERT INTO Clients (client_id, name, age, gender, country, item, item_units, price)\\\n",
    "                 VALUES (%s, %s, %s, %s, %s, %s, %s, %s)\", \\\n",
    "                 (1, \"Julia\", 25, \"F\", \"Brazil\", \"Tablet\", 1, 500.9))\n",
    "    print(\"Values were successfully added. \")\n",
    "except psycopg2.Error as error: \n",
    "    print(\"Error: Could not add the values. \")\n",
    "    print(error)\n",
    "\n",
    "try:\n",
    "    cur.execute(\"INSERT INTO Clients (client_id, name, age, gender, country, item, item_units, price)\\\n",
    "                 VALUES (%s, %s, %s, %s, %s, %s, %s, %s)\", \\\n",
    "                 (2, \"Guilherme\", 28, \"M\", \"Brazil\", \"Video Board\", 1, 999.90))\n",
    "    print(\"Values were successfully added. \")\n",
    "except psycopg2.Error as error: \n",
    "    print(\"Error: Could not add the values. \")\n",
    "    print(error)"
   ]
  },
  {
   "cell_type": "markdown",
   "id": "4d2647d5-bf6a-41e9-b803-2e572459b352",
   "metadata": {},
   "source": [
    "## 11- Validating the data:"
   ]
  },
  {
   "cell_type": "code",
   "execution_count": 28,
   "id": "e317f9be-ca2e-48c8-9160-8d816947aaa8",
   "metadata": {},
   "outputs": [
    {
     "name": "stdout",
     "output_type": "stream",
     "text": [
      "(1, 'Julia', 25, 'F', 'Brazil', 'Tablet', '1', 500.9)\n",
      "(2, 'Guilherme', 28, 'M', 'Brazil', 'Video Board', '1', 999.9)\n"
     ]
    }
   ],
   "source": [
    "try:\n",
    "    cur.execute(\"SELECT * FROM clients;\")\n",
    "except psycopg2.Error as error: \n",
    "    print('ERROR: Could not load the table. ', error)\n",
    "    \n",
    "show_rows = cur.fetchone()\n",
    "while show_rows:\n",
    "    print(show_rows)\n",
    "    show_rows = cur.fetchone()"
   ]
  },
  {
   "cell_type": "markdown",
   "id": "b3b18656-8570-417b-b81a-0a15375943e5",
   "metadata": {},
   "source": [
    "## 12- Closing the cursors:"
   ]
  },
  {
   "cell_type": "code",
   "execution_count": 29,
   "id": "e50c6da2-a8aa-49f7-8920-53e413c6b802",
   "metadata": {},
   "outputs": [],
   "source": [
    "cur.close()\n",
    "db_cursor.close()"
   ]
  }
 ],
 "metadata": {
  "kernelspec": {
   "display_name": "Python 3 (ipykernel)",
   "language": "python",
   "name": "python3"
  },
  "language_info": {
   "codemirror_mode": {
    "name": "ipython",
    "version": 3
   },
   "file_extension": ".py",
   "mimetype": "text/x-python",
   "name": "python",
   "nbconvert_exporter": "python",
   "pygments_lexer": "ipython3",
   "version": "3.11.5"
  }
 },
 "nbformat": 4,
 "nbformat_minor": 5
}
